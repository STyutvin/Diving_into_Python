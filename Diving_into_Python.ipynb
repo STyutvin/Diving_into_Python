{
  "nbformat": 4,
  "nbformat_minor": 0,
  "metadata": {
    "colab": {
      "provenance": [],
      "collapsed_sections": [
        "d_fEhlcxXsHv"
      ],
      "authorship_tag": "ABX9TyMHzFizXj4xD0GCCPEMVT0B"
    },
    "kernelspec": {
      "name": "python3",
      "display_name": "Python 3"
    },
    "language_info": {
      "name": "python"
    }
  },
  "cells": [
    {
      "cell_type": "markdown",
      "source": [
        "# Погружение в Python"
      ],
      "metadata": {
        "id": "NaLBbe3VISY8"
      }
    },
    {
      "cell_type": "markdown",
      "source": [
        "## Семинар 01"
      ],
      "metadata": {
        "id": "d_fEhlcxXsHv"
      }
    },
    {
      "cell_type": "markdown",
      "source": [
        "**Задание 1.**<br>\n",
        "Треугольник существует только тогда, когда сумма любых двух его сторон больше третьей. Дано a, b, c - стороны предполагаемого треугольника. Требуется сравнить длину каждого отрезка-стороны с суммой двух других. Если хотя бы в одном случае отрезок окажется больше суммы двух других, то треугольника с такими сторонами не существует. Отдельно сообщить, является ли треугольник разносторонним, равнобедренным или равносторонним."
      ],
      "metadata": {
        "id": "9cDlBrR6IiUg"
      }
    },
    {
      "cell_type": "code",
      "execution_count": null,
      "metadata": {
        "colab": {
          "base_uri": "https://localhost:8080/"
        },
        "id": "knW1zFYLHIbW",
        "outputId": "e66afd2a-7f99-4da7-a65d-db4c343ae6f8"
      },
      "outputs": [
        {
          "output_type": "stream",
          "name": "stdout",
          "text": [
            "Введите длину стороны АВ: 1\n",
            "Введите длину стороны BC: 1\n",
            "Введите длину стороны CA: 3\n",
            "Такого треугольника не существует.\n"
          ]
        }
      ],
      "source": [
        "ab = int(input('Введите длину стороны АВ: '))\n",
        "bc = int(input('Введите длину стороны BC: '))\n",
        "ca = int(input('Введите длину стороны CA: '))\n",
        "\n",
        "if (ab + bc) <= ca or (bc + ca) <= ab or (ab + ca) <= bc:\n",
        "  print('Такого треугольника не существует.')\n",
        "elif ab == bc and bc == ca and ca == ab:\n",
        "  print('Треугольник равносторонний.')\n",
        "elif ab == bc or bc == ca or ca == ab:\n",
        "  print('Треугольник равнобедренный.')\n",
        "else:\n",
        "  print('Это обычный треугольник.')"
      ]
    },
    {
      "cell_type": "markdown",
      "source": [
        "***Комментарии к Заданию 1.***<br>\n",
        "Следует также отметить, что если длина одной стороны треугольника будет не только больше суммы двух других сторон, но и равна ей, то такого треугольника также не существует."
      ],
      "metadata": {
        "id": "hb5mUkM4UU4A"
      }
    },
    {
      "cell_type": "markdown",
      "source": [
        "\n",
        "\n",
        "---\n",
        "\n"
      ],
      "metadata": {
        "id": "jc3fPNZbVMT6"
      }
    },
    {
      "cell_type": "markdown",
      "source": [
        "**Задание 2.**<br>\n",
        "Напишите код, который запрашивает число и сообщает является ли оно простым или составным. Используйте правило для проверки: “Число является простым, если делится нацело только на единицу и на себя”. Сделайте ограничение на ввод отрицательных чисел и чисел больше 100 тысяч."
      ],
      "metadata": {
        "id": "OcQ5YNC6X3CY"
      }
    },
    {
      "cell_type": "code",
      "source": [
        "number = int(input('Введите целое число от 2 до 100 000: '))\n",
        "low_limit = 2\n",
        "upper_limit = 100000\n",
        "\n",
        "while number < low_limit or number > upper_limit:\n",
        "  number = int(input('Число должно быть в указанном диапазоне. Введите число еще раз: '))\n",
        "\n",
        "if number == 2:\n",
        "  print('Введено простое число.')\n",
        "\n",
        "for i in range(2, number):\n",
        "    if number % i != 0  and i == number - 1:\n",
        "      print('Введено простое число.')\n",
        "    elif number % i == 0:\n",
        "      print('Введено составное число.')\n",
        "      break\n",
        "\n"
      ],
      "metadata": {
        "colab": {
          "base_uri": "https://localhost:8080/"
        },
        "id": "1DoAPht2qMpI",
        "outputId": "5572c575-deed-4b5a-e124-83a93476c7cd"
      },
      "execution_count": null,
      "outputs": [
        {
          "output_type": "stream",
          "name": "stdout",
          "text": [
            "Введите целое число от 2 до 100 000: -56\n",
            "Число должно быть в указанном диапазоне. Введите число еще раз: 1000000\n",
            "Число должно быть в указанном диапазоне. Введите число еще раз: 63\n",
            "Введено составное число.\n"
          ]
        }
      ]
    },
    {
      "cell_type": "markdown",
      "source": [
        "***Комментарии к Заданию 2.***<br>\n",
        "Число 1 — не является ни простым, ни составным числом, так как у него только один делитель — 1. Именно этим оно отличается от всех остальных натуральных чисел. Число 2 — первое наименьшее простое, единственное четное, простое число. Поэтому пользователю предлагается ввести число, начиная с 2, а не с 1."
      ],
      "metadata": {
        "id": "pnfy6VfB6Nau"
      }
    },
    {
      "cell_type": "markdown",
      "source": [
        "\n",
        "\n",
        "---\n",
        "\n"
      ],
      "metadata": {
        "id": "XclczNJ561V6"
      }
    },
    {
      "cell_type": "markdown",
      "source": [
        "**Задание 3.**<br>\n",
        "Программа загадывает число от 0 до 1000. Необходимо угадать число за 10 попыток. Программа должна подсказывать “больше” или “меньше” после каждой попытки."
      ],
      "metadata": {
        "id": "pihSqnWsV4h7"
      }
    },
    {
      "cell_type": "code",
      "source": [
        "import random\n",
        "number = random.randint(0,1000)\n",
        "user_number = None\n",
        "count = 0\n",
        "\n",
        "print('Загадано число от 0 до 1000. Попробуйте его угадать за 10 попыток!')\n",
        "\n",
        "while count < 10 and user_number != number:\n",
        "  user_number = int(input('Введите ваше число: '))\n",
        "  count += 1\n",
        "  if count == 10 and user_number != number:\n",
        "    print(\"Количество попыток закончилось :'(\")\n",
        "  elif user_number > number:\n",
        "    print('Меньше!')\n",
        "  elif user_number < number:\n",
        "    print('Больше!')\n",
        "  elif user_number == number:\n",
        "      print('В яблочко!')\n",
        "\n",
        "print('Было загадано число: ', number)"
      ],
      "metadata": {
        "colab": {
          "base_uri": "https://localhost:8080/"
        },
        "id": "Si4JjZu9WB6r",
        "outputId": "4f1e62fb-7a95-4ec0-b4f9-eddaa1c6ffbe"
      },
      "execution_count": null,
      "outputs": [
        {
          "output_type": "stream",
          "name": "stdout",
          "text": [
            "Загадано число от 0 до 1000. Попробуйте его угадать за 10 попыток!\n",
            "Введите ваше число: 500\n",
            "Больше!\n",
            "Введите ваше число: 750\n",
            "Меньше!\n",
            "Введите ваше число: 600\n",
            "Больше!\n",
            "Введите ваше число: 650\n",
            "Больше!\n",
            "Введите ваше число: 700\n",
            "Больше!\n",
            "Введите ваше число: 730\n",
            "Больше!\n",
            "Введите ваше число: 740\n",
            "Меньше!\n",
            "Введите ваше число: 735\n",
            "В яблочко!\n",
            "Было загадано число:  735\n"
          ]
        }
      ]
    },
    {
      "cell_type": "markdown",
      "source": [
        "## Семинар 02"
      ],
      "metadata": {
        "id": "pRzyBs4Gbdvm"
      }
    },
    {
      "cell_type": "markdown",
      "source": [
        "**Задание 1.**<br>\n",
        "Напишите программу, которая получает целое число и возвращает его шестнадцатеричное строковое представление. Функцию hex используйте для проверки своего результата."
      ],
      "metadata": {
        "id": "ZR7rp7aglH0f"
      }
    },
    {
      "cell_type": "code",
      "source": [
        "hex_list = []     # пустой список для записи результатов\n",
        "result = None     # переменная для хранения целой части результата от деления\n",
        "HEX_BASE = 16     # константа для шестнадцптиричной системы\n",
        "\n",
        "number = int(input('Введите целое число: '))\n",
        "\n",
        "while result != 0:\n",
        "  result = number // HEX_BASE\n",
        "  remainder = number % HEX_BASE\n",
        "  if remainder == 10:\n",
        "    hex_list.append('A')\n",
        "  elif remainder == 11:\n",
        "    hex_list.append('B')\n",
        "  elif remainder == 12:\n",
        "    hex_list.append('C')\n",
        "  elif remainder == 13:\n",
        "    hex_list.append('D')\n",
        "  elif remainder == 14:\n",
        "    hex_list.append('E')\n",
        "  elif remainder == 15:\n",
        "    hex_list.append('F')\n",
        "  else:\n",
        "    hex_list.append(remainder)\n",
        "  number = result\n",
        "\n",
        "hex_list.reverse()  # разворачиваем список в обратную сторону\n",
        "print('Данное число в шестнадцатеричной системе:', ''.join(map(str, hex_list)))\n"
      ],
      "metadata": {
        "colab": {
          "base_uri": "https://localhost:8080/"
        },
        "id": "-YBG0rz5nEKY",
        "outputId": "1c3cf2d3-a066-4021-cbb8-6fce6717358c"
      },
      "execution_count": null,
      "outputs": [
        {
          "output_type": "stream",
          "name": "stdout",
          "text": [
            "Введите целое число: 1000\n",
            "Данное число в шестнадцатеричной системе: 3E8\n"
          ]
        }
      ]
    },
    {
      "cell_type": "markdown",
      "source": [
        "Проверка с помощью функции hex."
      ],
      "metadata": {
        "id": "L6-ItG6dwIJK"
      }
    },
    {
      "cell_type": "code",
      "source": [
        "check_num = int(input('Введите целое число: '))\n",
        "print(hex(check_num))"
      ],
      "metadata": {
        "colab": {
          "base_uri": "https://localhost:8080/"
        },
        "id": "spsFCWlFwPmY",
        "outputId": "1f612e28-f060-4440-c60c-94c46802ea5d"
      },
      "execution_count": null,
      "outputs": [
        {
          "output_type": "stream",
          "name": "stdout",
          "text": [
            "Введите целое число: 1000\n",
            "0x3e8\n"
          ]
        }
      ]
    },
    {
      "cell_type": "markdown",
      "source": [
        "*Еще один вариант кода для Задания 1.*"
      ],
      "metadata": {
        "id": "uDgxNlxoSoVe"
      }
    },
    {
      "cell_type": "code",
      "source": [
        "hex_list = []     # пустой список для записи результатов\n",
        "result = None     # переменная для хранения целой части результата от деления\n",
        "HEX_BASE = 16     # константа для шестнадцптиричной системы\n",
        "\n",
        "def digits_into_letters(digit: int):\n",
        "  correspondence = {10: 'A', 11: 'B', 12: 'C', 13: 'D', 14: 'E', 15: 'F'}\n",
        "  match digit:\n",
        "    case 10:\n",
        "      letter = correspondence.get(10)\n",
        "    case 11:\n",
        "      letter = correspondence.get(11)\n",
        "    case 12:\n",
        "      letter = correspondence.get(12)\n",
        "    case 13:\n",
        "      letter = correspondence.get(13)\n",
        "    case 14:\n",
        "      letter = correspondence.get(14)\n",
        "    case 15:\n",
        "      letter = correspondence.get(15)\n",
        "    case _:\n",
        "      letter = digit\n",
        "  return(letter)\n",
        "\n",
        "number = int(input('Введите целое число: '))\n",
        "\n",
        "while result != 0:\n",
        "  result = number // HEX_BASE\n",
        "  remainder = number % HEX_BASE\n",
        "  hex_list.append(digits_into_letters(remainder))\n",
        "  number = result\n",
        "\n",
        "hex_list.reverse()  # разворачиваем список в обратную сторону\n",
        "print('Данное число в шестнадцатеричной системе:', ''.join(map(str, hex_list)))"
      ],
      "metadata": {
        "colab": {
          "base_uri": "https://localhost:8080/"
        },
        "id": "M240UaEDSzj_",
        "outputId": "ba0a9ea9-7757-4ff4-c821-2f3792cdae08"
      },
      "execution_count": null,
      "outputs": [
        {
          "output_type": "stream",
          "name": "stdout",
          "text": [
            "Введите целое число: 1000\n",
            "Данное число в шестнадцатеричной системе: 3E8\n"
          ]
        }
      ]
    },
    {
      "cell_type": "markdown",
      "source": [
        "\n",
        "\n",
        "---\n",
        "\n"
      ],
      "metadata": {
        "id": "8wkVRm20plCi"
      }
    },
    {
      "cell_type": "markdown",
      "source": [
        "**Задание 2.**<br>\n",
        "Напишите программу, которая принимает две строки вида “a/b” - дробь с числителем и знаменателем. Программа должна возвращать сумму и произведение* дробей. Для проверки своего кода используйте модуль fractions."
      ],
      "metadata": {
        "id": "96-OzgJKbim2"
      }
    },
    {
      "cell_type": "code",
      "source": [
        "import math\n",
        "\n",
        "str1 = input('Введите первую дробь вида a/b: ')\n",
        "str2 = input('Введите вторую дробь вида c/d: ')\n",
        "\n",
        "n1 = int(str1.partition('/')[0])   # числистель первой дроби\n",
        "d1 = int(str1.partition('/')[2])   # знаменатель первой дроби\n",
        "\n",
        "n2 = int(str2.partition('/')[0])   # числистель второй дроби\n",
        "d2 = int(str2.partition('/')[2])   # знаменатель второй дроби\n",
        "\n",
        "if (d1 == d2) and  ((n1 + n2) % d1 != 0):\n",
        "  print('a/b + c/b = ', int((n1 + n2)/math.gcd((n1 + n2), d1)), '/', int(d1/math.gcd((n1 + n2), d1)), sep='')\n",
        "elif (d1 == d2) and  ((n1 + n2) % d1 == 0):\n",
        "  print('a/b + c/b = ', int((n1 + n2) / d1))\n",
        "else:\n",
        "  print('a/b + c/b = ', int((n1 * d2 + n2 * d1)/math.gcd((n1 * d2 + n2 * d1), (d1 * d2))), '/', int((d1 * d2)/math.gcd((n1 * d2 + n2 * d1), (d1 * d2))), sep='')\n",
        "\n",
        "print('a/b * c/b = ', n1 * n2, '/', d1 * d2, sep='')"
      ],
      "metadata": {
        "colab": {
          "base_uri": "https://localhost:8080/"
        },
        "id": "0-sO9ZHQdxlZ",
        "outputId": "0e64f1ee-0607-47af-cad5-2d7899c7788e"
      },
      "execution_count": 1,
      "outputs": [
        {
          "output_type": "stream",
          "name": "stdout",
          "text": [
            "Введите первую дробь вида a/b: 25/311\n",
            "Введите вторую дробь вида c/d: 11/251\n",
            "a/b + c/b = 9696/78061\n",
            "a/b * c/b = 275/78061\n"
          ]
        }
      ]
    },
    {
      "cell_type": "markdown",
      "source": [
        "Проверка с кода с помощью модуля fractions."
      ],
      "metadata": {
        "id": "-tPvO0MpkcV_"
      }
    },
    {
      "cell_type": "code",
      "source": [
        "import fractions\n",
        "\n",
        "f1 = fractions.Fraction(25, 311)\n",
        "f2 = fractions.Fraction(11, 251)\n",
        "\n",
        "print(f1 + f2)\n",
        "print(f1 * f2)"
      ],
      "metadata": {
        "colab": {
          "base_uri": "https://localhost:8080/"
        },
        "id": "DVhwwWfzcHm5",
        "outputId": "757f088f-27bb-4a7b-c436-ca654c616d52"
      },
      "execution_count": 2,
      "outputs": [
        {
          "output_type": "stream",
          "name": "stdout",
          "text": [
            "9696/78061\n",
            "275/78061\n"
          ]
        }
      ]
    }
  ]
}